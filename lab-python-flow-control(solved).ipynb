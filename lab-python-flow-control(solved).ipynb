{
 "cells": [
  {
   "cell_type": "markdown",
   "id": "d3bfc191-8885-42ee-b0a0-bbab867c6f9f",
   "metadata": {
    "tags": []
   },
   "source": [
    "# Lab | Flow Control"
   ]
  },
  {
   "cell_type": "markdown",
   "id": "3851fcd1-cf98-4653-9c89-e003b7ec9400",
   "metadata": {},
   "source": [
    "## Exercise: Managing Customer Orders Optimized\n",
    "\n",
    "In the last lab, you were starting an online store that sells various products. To ensure smooth operations, you developed a program that manages customer orders and inventory.\n",
    "\n",
    "You did so without using flow control. Let's go a step further and improve this code.\n",
    "\n",
    "Follow the steps below to complete the exercise:\n",
    "\n",
    "1. Look at your code from the lab data structures, and improve repeated code with loops.\n",
    "\n",
    "2. Instead of asking the user to input the name of three products that a customer wants to order, do the following:\n",
    "    \n",
    "    a. Prompt the user to enter the name of a product that a customer wants to order.\n",
    "    \n",
    "    b. Add the product name to the \"customer_orders\" set.\n",
    "    \n",
    "    c. Ask the user if they want to add another product (yes/no).\n",
    "    \n",
    "    d. Continue the loop until the user does not want to add another product.\n",
    "\n",
    "3. Instead of updating the inventory by subtracting 1 from the quantity of each product, only do it for  the products that were ordered (those in \"customer_orders\")."
   ]
  },
  {
   "cell_type": "code",
   "execution_count": null,
   "id": "90fa43e5",
   "metadata": {},
   "outputs": [],
   "source": [
    "products = [\"t-shirt\", \"mug\", \"hat\", \"book\", \"keychain\"]\n",
    "inventory = {}"
   ]
  },
  {
   "cell_type": "code",
   "execution_count": null,
   "id": "b7863c8c",
   "metadata": {},
   "outputs": [],
   "source": [
    "for product in products:\n",
    "    quantity = int(input(f\"Enter quantity of {product}: \"))\n",
    "    inventory[product] = quantity"
   ]
  },
  {
   "cell_type": "code",
   "execution_count": null,
   "id": "228b9df3",
   "metadata": {},
   "outputs": [],
   "source": [
    "customer_orders = set()"
   ]
  },
  {
   "cell_type": "code",
   "execution_count": null,
   "id": "e2ea78df",
   "metadata": {},
   "outputs": [],
   "source": [
    "def add_product():\n",
    "    product_to_order = input(\"Enter the name of the product you want:\")\n",
    "    customer_orders.add(product_to_order)\n",
    "    add_another = input(\"Do you want to add another product? (yes/no): \")\n",
    "    if add_another.lower() == 'yes':\n",
    "        add_product()\n",
    "add_product()"
   ]
  },
  {
   "cell_type": "code",
   "execution_count": null,
   "id": "39717aff",
   "metadata": {},
   "outputs": [],
   "source": [
    "total_ordered = len(customer_orders)\n",
    "percentage_ordered = (total_ordered / sum(inventory.values())) * 100\n",
    "order_status = (total_ordered, percentage_ordered)"
   ]
  },
  {
   "cell_type": "code",
   "execution_count": null,
   "id": "9ac96dc2",
   "metadata": {},
   "outputs": [],
   "source": [
    "for product in customer_orders:\n",
    "    if product in inventory:\n",
    "        inventory[product] -= 1"
   ]
  },
  {
   "cell_type": "code",
   "execution_count": null,
   "id": "b14e68ac",
   "metadata": {},
   "outputs": [],
   "source": [
    "for product in inventory:\n",
    "    print(f\"{product}: {inventory[product]}\")"
   ]
  }
 ],
 "metadata": {
  "kernelspec": {
   "display_name": "Python 3 (ipykernel)",
   "language": "python",
   "name": "python3"
  },
  "language_info": {
   "codemirror_mode": {
    "name": "ipython",
    "version": 3
   },
   "file_extension": ".py",
   "mimetype": "text/x-python",
   "name": "python",
   "nbconvert_exporter": "python",
   "pygments_lexer": "ipython3",
   "version": "3.11.7"
  }
 },
 "nbformat": 4,
 "nbformat_minor": 5
}
